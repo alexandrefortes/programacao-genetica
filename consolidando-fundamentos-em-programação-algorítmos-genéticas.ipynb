{
 "cells": [
  {
   "cell_type": "markdown",
   "metadata": {},
   "source": [
    "# Programação Genética\n",
    "\n",
    "**Pós Graduação em Inteligência Artificial - IFMG**\n",
    "\n",
    "**Autor**: Alexandre Fortes Santana\n",
    "**Professor**: Carlos Alexandre\n",
    "\n",
    "**Implementação de operadores de mutação e crossover customizados para um problema específico.**\n",
    "\n",
    "*Return to Basics*: Devido à falta de tempo disponível, este trabalho de programação genética tem como foco a aplicação dos fundamentos, e não necessariamente a resolução de um problema real. Para abordar um problema real de forma consistente, é essencial dedicar uma quantidade significativa de tempo para entender profundamente o problema antes de aplicar qualquer solução. Portanto, escolhi um problema que permita a aplicação dos conceitos em um curto período de tempo, com o objetivo de aprender os fundamentos de maneira eficaz.\n",
    "\n",
    "### Conceitos Fundamentais dos Algoritmos Genéticos:\n",
    "\n",
    "- É uma abordagem para encontrar soluções para problemas, inspirada na biologia e na evolução.\n",
    "- É uma variante popular de algoritmos evolutivos.\n",
    "- Começa com um conjunto de soluções aleatórias (ou boas, se houver conhecimento prévio do domínio).\n",
    "- As soluções são avaliadas iterativamente.\n",
    "- As melhores soluções são selecionadas, cruzadas e mutadas.\n",
    "- O processo é repetido um número fixo de vezes (gerações) ou até que uma solução ideal seja encontrada.\n",
    "- Espera-se que ao longo do tempo, as soluções melhorem."
   ]
  },
  {
   "cell_type": "markdown",
   "metadata": {},
   "source": [
    "### Problema a ser resolvido\n",
    "\n",
    "Usaremos programação genética encontrar o cubo máximo de um número inteiro no intervalo de 0 a 1.000.000. O intervalo é definido de forma aleatória.\n",
    "\n",
    "Consideramos a função f(x) = x^3, onde x é um número inteiro no intervalo de 0 a 1.000.000. O objetivo é encontrar o valor de x que maximize o resultado da função, ou seja, o cubo máximo de um número inteiro nesse intervalo.\n",
    "\n",
    "Representando as soluções como árvores de expressão, onde cada nó da árvore representa uma operação matemática ou uma variável (x).\n",
    "\n",
    "(^ x 3)\n",
    "\n",
    "### Visão geral do algoritmo:\n",
    "\n",
    "- Gerar um conjunto inicial de soluções.\n",
    "- Avaliar a qualidade das soluções.\n",
    "- Selecionar algumas soluções para gerar novas soluções, buscando melhorias.\n",
    "- Criar pares de soluções selecionadas para gerar novas soluções.\n",
    "- Realizar pequenas alterações aleatórias nas novas soluções geradas.\n",
    "- Substituir o conjunto anterior pelas novas soluções geradas.\n",
    "- Continuar o processo até encontrar uma solução adequada, preferencialmente, antes de chegar ao fim do semestre letivo."
   ]
  },
  {
   "cell_type": "markdown",
   "metadata": {},
   "source": [
    "## Indivíduos"
   ]
  },
  {
   "cell_type": "code",
   "execution_count": 2,
   "metadata": {},
   "outputs": [],
   "source": [
    "# O método \"decode\" converte uma string binária em um número inteiro. \n",
    "# O método retorna o valor inteiro da conversão elevda ao cubo\n",
    "\n",
    "class GenotypeDecoder:\n",
    "    \n",
    "    def decode(self, genotype: str):\n",
    "        binary_number = int(genotype, 2)  # Converte a string binária para um número inteiro\n",
    "        decoded_number = binary_number ** 3  # Eleva o número ao cubo\n",
    "        return decoded_number\n",
    "    \n",
    "class FitnessEvaluator:\n",
    "    \n",
    "    def __init__(self, genotype_decoder: GenotypeDecoder):\n",
    "        self.genotype_decoder = genotype_decoder\n",
    "        \n",
    "    def evaluate(self, genotype: str):\n",
    "        decoded_value = self.genotype_decoder.decode(genotype)  # Decodifica o genótipo\n",
    "        return decoded_value"
   ]
  },
  {
   "cell_type": "code",
   "execution_count": 3,
   "metadata": {},
   "outputs": [
    {
     "name": "stdout",
     "output_type": "stream",
     "text": [
      "Resultado da avaliação: 1000\n"
     ]
    }
   ],
   "source": [
    "# Teste\n",
    "# Criando uma instância do decodificador de genótipo\n",
    "decoder = GenotypeDecoder()\n",
    "\n",
    "# Criando uma instância do avaliador de aptidão (fitness evaluator) e passando o decodificador como argumento\n",
    "evaluator = FitnessEvaluator(decoder)\n",
    "\n",
    "# Genótipo a ser avaliado\n",
    "genotype = \"1010\"\n",
    "\n",
    "# Avaliando o genótipo utilizando o avaliador de aptidão\n",
    "result = evaluator.evaluate(genotype)\n",
    "\n",
    "# Exibindo o resultado\n",
    "print(\"Resultado da avaliação:\", result)\n"
   ]
  },
  {
   "cell_type": "markdown",
   "metadata": {},
   "source": [
    "A classe `Individual` cria os indivíduos do algoritmo, armazenando informações sobre o genótipo e a aptidão de cada um."
   ]
  },
  {
   "cell_type": "code",
   "execution_count": 4,
   "metadata": {},
   "outputs": [],
   "source": [
    "class Individual:\n",
    "    # atribuir os valores iniciais do genótipo e da aptidão para cada instância de indivíduo\n",
    "    def __init__(self, genotype: str, fitness: int): \n",
    "        self.genotype = genotype\n",
    "        self.fitness = fitness\n",
    "\n",
    "    # retornar uma representação em string do indivíduo, combinando genótipo e a aptidão\n",
    "    def __repr__(self):\n",
    "        return f\"Individual/genotype = {self.genotype} Fitness = {self.fitness}\"\n"
   ]
  },
  {
   "cell_type": "code",
   "execution_count": 5,
   "metadata": {},
   "outputs": [
    {
     "name": "stdout",
     "output_type": "stream",
     "text": [
      "Individual/genotype = 010101 Fitness = 75\n",
      "Individual/genotype = 110011 Fitness = 92\n"
     ]
    }
   ],
   "source": [
    "# Teste\n",
    "# Criando instâncias de objetos Individual\n",
    "individual1 = Individual(\"010101\", 75)\n",
    "individual2 = Individual(\"110011\", 92)\n",
    "\n",
    "# Imprimindo a representação dos objetos Individual\n",
    "print(individual1)\n",
    "print(individual2)\n"
   ]
  },
  {
   "cell_type": "markdown",
   "metadata": {},
   "source": [
    "A classe `IndividualFactory` é responsável por criar instâncias da classe `Individual`. Essa \"fábrica de indivíduos\" recebe dois parâmetros em seu construtor: `genotype_length`, que indica o comprimento do genótipo, e `fitness_evaluator`, que é uma instância de `FitnessEvaluator` responsável por avaliar o *fitness* de um genótipo.\n",
    "\n",
    "A fábrica de indivíduos possui três métodos principais:\n",
    "\n",
    "1. O método `with_random_genotype` gera genótipos aleatórios, com base no comprimento especificado. Em seguida, o método avalia o fitness desse genótipo usando o objeto `fitness_evaluator` e retorna uma nova instância de `Individual` com o genótipo gerado e o fitness avaliado. Método usado como ponto de partida da evolução.\n",
    "\n",
    "2. O método `with_set_genotype` recebe um genótipo como parâmetro e avalia seu fitness usando o objeto `fitness_evaluator`. Em seguida, retorna uma nova instância de `Individual` com o genótipo especificado e o fitness avaliado. Método usado para a reprodução.\n",
    "\n",
    "3. O método `with_minimal_fitness` cria um genótipo composto apenas de zeros e avalia seu fitness usando o objeto `fitness_evaluator`.\n",
    "\n",
    "Essa fábrica de indivíduos permite criar diferentes instâncias de `Individual` com genótipos aleatórios, genótipos específicos ou genótipos mínimos, com seus respectivos fitness avaliados. Isso é útil para a criação de populações iniciais em algoritmos genéticos, onde diferentes indivíduos são necessários para a evolução e otimização dos genótipos ao longo das gerações."
   ]
  },
  {
   "cell_type": "code",
   "execution_count": 6,
   "metadata": {},
   "outputs": [],
   "source": [
    "import random\n",
    "class IndividualFactory:\n",
    "    \n",
    "    def __init__(self, genotype_length: int, fitness_evaluator: FitnessEvaluator):\n",
    "        self.genotype_length = genotype_length\n",
    "        self.fitness_evaluator = fitness_evaluator\n",
    "        self.binary_string_format = f\"{{:0{self.genotype_length}b}}\"\n",
    "    \n",
    "    def with_random_genotype(self):\n",
    "        genotype_max_value = 2 ** self.genotype_length\n",
    "        random_genotype = self.binary_string_format.format(random.randint(0, genotype_max_value))\n",
    "        fitness = self.fitness_evaluator.evaluate(random_genotype)\n",
    "        return Individual(random_genotype, fitness)\n",
    "    \n",
    "    def with_set_genotype(self, genotype: str):\n",
    "        fitness = self.fitness_evaluator.evaluate(genotype)\n",
    "        return Individual(genotype, fitness)\n",
    "    \n",
    "    def with_minimal_fitness(self):\n",
    "        minimal_fitness_genotype = self.binary_string_format.format(0)\n",
    "        fitness = self.fitness_evaluator.evaluate(minimal_fitness_genotype)\n",
    "        return Individual(minimal_fitness_genotype, fitness)\n"
   ]
  },
  {
   "cell_type": "code",
   "execution_count": 7,
   "metadata": {},
   "outputs": [
    {
     "name": "stdout",
     "output_type": "stream",
     "text": [
      "Individual/genotype = 0101 Fitness = 125\n",
      "Individual/genotype = 1010 Fitness = 1000\n",
      "Individual/genotype = 0000 Fitness = 0\n"
     ]
    }
   ],
   "source": [
    "# Teste:\n",
    "\n",
    "decoder = GenotypeDecoder()\n",
    "fitness_evaluator = FitnessEvaluator(decoder)\n",
    "\n",
    "# Criando uma instância de IndividualFactory com um comprimento de genótipo de 4\n",
    "individual_factory = IndividualFactory(4, fitness_evaluator)\n",
    "\n",
    "# Criando diferentes indivíduos usando os métodos da IndividualFactory\n",
    "random_individual = individual_factory.with_random_genotype()\n",
    "set_individual = individual_factory.with_set_genotype('1010')\n",
    "minimal_fitness_individual = individual_factory.with_minimal_fitness()\n",
    "\n",
    "# Imprimindo os indivíduos criados\n",
    "print(random_individual)\n",
    "print(set_individual)\n",
    "print(minimal_fitness_individual)"
   ]
  },
  {
   "cell_type": "markdown",
   "metadata": {},
   "source": [
    "A classe `Population` é uma coleção de `Individual`s. Ela fornece um método, `get_the_fittest`, para obter os indivíduos mais aptos. A classe `PopulationFactory` fornece métodos para criar populações com indivíduos aleatórios, com indivíduos especificados e com indivíduos de aptidão mínima."
   ]
  },
  {
   "cell_type": "code",
   "execution_count": 8,
   "metadata": {},
   "outputs": [],
   "source": [
    "class Population:\n",
    "    def __init__(self, individuals):\n",
    "        self.individuals = individuals\n",
    "        \n",
    "    def get_the_fittest(self, n: int):\n",
    "        self.__sort_by_fitness()\n",
    "        return self.individuals[:n]\n",
    "        \n",
    "    def __sort_by_fitness(self):\n",
    "        self.individuals.sort(key=lambda individual: individual.fitness, reverse=True)\n",
    "    \n",
    "class PopulationFactory:\n",
    "    def __init__(self, individual_factory: IndividualFactory):\n",
    "        self.individual_factory = individual_factory\n",
    "        \n",
    "    def with_random_individuals(self, size: int):\n",
    "        individuals = [self.individual_factory.with_random_genotype() for _ in range(size)]\n",
    "        return Population(individuals)\n",
    "    \n",
    "    def with_individuals(self, individuals):\n",
    "        return Population(individuals)\n",
    "    \n",
    "    def with_minimal_fitness_individuals(self, size: int):\n",
    "        individuals = [self.individual_factory.with_minimal_fitness() for _ in range(size)]\n",
    "        return Population(individuals)\n"
   ]
  },
  {
   "cell_type": "code",
   "execution_count": 9,
   "metadata": {},
   "outputs": [
    {
     "name": "stdout",
     "output_type": "stream",
     "text": [
      "Individual/genotype = 10001010 Fitness = 2628072\n",
      "Individual/genotype = 01011010 Fitness = 729000\n",
      "Individual/genotype = 01011001 Fitness = 704969\n",
      "Individual/genotype = 01101100 Fitness = 1259712\n",
      "Individual/genotype = 10011011 Fitness = 3723875\n",
      "Individual/genotype = 00000000 Fitness = 0\n",
      "Individual/genotype = 00000000 Fitness = 0\n"
     ]
    }
   ],
   "source": [
    "# Teste:\n",
    "\n",
    "# Exemplo de uso da classe PopulationFactory para criar uma população com indivíduos aleatórios\n",
    "individual_factory = IndividualFactory(genotype_length=8, fitness_evaluator=fitness_evaluator)\n",
    "population_factory = PopulationFactory(individual_factory)\n",
    "\n",
    "# Criar uma população com 5 indivíduos aleatórios\n",
    "population_random = population_factory.with_random_individuals(size=5)\n",
    "\n",
    "# Imprimir os indivíduos da população\n",
    "for individual in population_random.individuals:\n",
    "    print(individual)\n",
    "\n",
    "# Exemplo de uso da classe PopulationFactory para criar uma população com indivíduos de fitness mínimo\n",
    "population_minimal_fitness = population_factory.with_minimal_fitness_individuals(size=3)\n",
    "\n",
    "# Obter os 2 indivíduos mais aptos da população\n",
    "fittest_individuals = population_minimal_fitness.get_the_fittest(n=2)\n",
    "\n",
    "# Imprimir os indivíduos mais aptos\n",
    "for individual in fittest_individuals:\n",
    "    print(individual)"
   ]
  },
  {
   "cell_type": "markdown",
   "metadata": {},
   "source": [
    "## Seleção Natural"
   ]
  },
  {
   "cell_type": "markdown",
   "metadata": {},
   "source": [
    "O primeiro passo para criar uma nova geração de soluções é selecionar indivíduos da população atual que se tornarão os pais. Os novos indivíduos são chamados de descendentes. A decisão de quais indivíduos manter para a próxima geração é chamada de seleção de sobrevivência.\n",
    "\n",
    "Usaremos o Stochastic Universal Sampling (SUS), de forma que a probabilidade de um indivíduo se tornar um pai dependerá diretamente de sua aptidão. \n",
    "\n",
    "O SUS também ajuda a garantir que a diversidade da população seja preservada e que indivíduos com alta aptidão sejam selecionados para cruzar.\n",
    "\n",
    "A classe `ParentSelector`, que é responsável por selecionar os pais da população para a próxima geração em um algoritmo genético.\n",
    "\n",
    "A função `select_parents` recebe como entrada um objeto `Population`, que contém uma lista de indivíduos (representados pela classe `Individual`). O objetivo é selecionar os pais com base na aptidão (fitness) de cada indivíduo.\n",
    "\n",
    "A função começa calculando o valor total de aptidão somando as aptidões de todos os indivíduos na população. Em seguida, cria uma lista chamada `fitness_scale`, que armazena a escala de aptidão. Cada valor na escala é a soma das aptidões dos indivíduos anteriores na lista.\n",
    "\n",
    "A partir daí, é criado o \"pool de acasalamento\" (`mating_pool`), uma lista vazia onde os pais selecionados serão armazenados. O número de pais a serem selecionados é igual ao tamanho da população.\n",
    "\n",
    "Em seguida, é calculado o tamanho do passo na escala de aptidão (`fitness_step`), que determina a rapidez com que avançamos ao longo da escala de aptidão. Também é gerado um deslocamento aleatório (`random_offset`) dentro do intervalo do tamanho do passo.\n",
    "\n",
    "O próximo passo é iterar pelo número de pais desejado. Para cada iteração, um ponteiro de aptidão atual (`current_fitess_pointer`) é atualizado adicionando o tamanho do passo. Um índice de posição na escala de aptidão anterior (`last_fitness_scale_position`) é mantido para otimizar a busca.\n",
    "\n",
    "Dentro do loop, é feita uma busca na escala de aptidão para encontrar o índice que corresponde à posição do ponteiro de aptidão atual. O indivíduo correspondente a esse índice é adicionado ao pool de acasalamento. O índice encontrado é armazenado como a última posição na escala de aptidão para melhorar a eficiência na próxima iteração.\n",
    "\n",
    "Ao final, a função retorna o pool de acasalamento contendo os pais selecionados.\n",
    "\n",
    "Essa seleção de pais é baseada na aptidão dos indivíduos, onde os indivíduos com maior aptidão têm mais probabilidade de serem selecionados, mas ainda existe uma aleatoriedade devido ao deslocamento inicial e ao passo na escala de aptidão."
   ]
  },
  {
   "cell_type": "code",
   "execution_count": 10,
   "metadata": {},
   "outputs": [],
   "source": [
    "class ParentSelector:\n",
    "        \n",
    "    def select_parents(self, population: Population):\n",
    "        total_fitness = sum(individual.fitness for individual in population.individuals)\n",
    "        fitness_scale = [individual.fitness for individual in population.individuals]\n",
    "        \n",
    "        for index in range(1, len(fitness_scale)):\n",
    "            fitness_scale[index] += fitness_scale[index - 1]\n",
    "            \n",
    "        mating_pool = []\n",
    "        number_of_parents = len(population.individuals)\n",
    "        fitness_step = total_fitness / number_of_parents\n",
    "        random_offset = random.uniform(0, fitness_step)\n",
    "        \n",
    "        current_fitess_pointer = random_offset\n",
    "        last_fitness_scale_position = 0\n",
    "        for _ in range(number_of_parents):\n",
    "            for fitness_scale_position in range(last_fitness_scale_position, len(fitness_scale)):\n",
    "                if fitness_scale[fitness_scale_position] >= current_fitess_pointer:\n",
    "                    mating_pool.append(population.individuals[fitness_scale_position])\n",
    "                    last_fitness_scale_position = fitness_scale_position\n",
    "                    break\n",
    "            current_fitess_pointer += fitness_step\n",
    "        \n",
    "        return mating_pool\n"
   ]
  },
  {
   "cell_type": "code",
   "execution_count": 11,
   "metadata": {},
   "outputs": [
    {
     "name": "stdout",
     "output_type": "stream",
     "text": [
      "Individual/genotype = 0011 Fitness = 10\n",
      "Individual/genotype = 0011 Fitness = 10\n",
      "Individual/genotype = 0011 Fitness = 9\n",
      "Individual/genotype = 0101 Fitness = 6\n",
      "Individual/genotype = 0000 Fitness = 7\n"
     ]
    }
   ],
   "source": [
    "# Criando a população com 5 indivíduos\n",
    "individuals = []\n",
    "for i in range(5):\n",
    "    genotype = ''.join(random.choices(['0', '1'], k=4))\n",
    "    fitness = random.randint(1, 10)\n",
    "    individuals.append(Individual(genotype, fitness))\n",
    "    \n",
    "population = Population(individuals)\n",
    "\n",
    "# Criando um objeto da classe ParentSelector\n",
    "parent_selector = ParentSelector()\n",
    "\n",
    "# Selecionando os pais da população\n",
    "mating_pool = parent_selector.select_parents(population)\n",
    "\n",
    "# Exibindo os pais selecionados\n",
    "for parent in mating_pool:\n",
    "    print(parent)"
   ]
  },
  {
   "cell_type": "markdown",
   "metadata": {},
   "source": [
    "### Cruzamento e Mutação\n",
    "\n",
    "Precisamos transferir as características que tornam um indivíduo apto para a próxima geração. \n",
    "\n",
    "Vamos combinar os genótipos de dois indivíduos pais em um novo par. Por exemplo, se os pais têm os genótipos 001111011111 e 111100001111, selecionamos um ponto de crossover aleatório entre 0 e o comprimento do genótipo:\n",
    "\n",
    "crossover: 5\n",
    "\n",
    "***G1a**: 00111\t**G1b**: 1011111*\n",
    "\n",
    "***G2a**: 11110\t**G2b**: 0001111*\n",
    "\n",
    "Agora criamos um novo par de genótipos combinando a primeira parte do primeiro genótipo (1a) com a segunda parte do segundo (2b) e a primeira parte do segundo genótipo (2a) com a segunda parte do primeiro genótipo (1b):\n",
    "\n",
    "***Descendente 1 (G1a+G2b)**: 001110001111*\n",
    "\n",
    "***Descendente 2 (G2a+G1b)**: 111101011111*\n",
    "\n",
    "Os novos genótipos se tornarão os descendentes."
   ]
  },
  {
   "cell_type": "markdown",
   "metadata": {},
   "source": [
    "#### Cruzamento"
   ]
  },
  {
   "cell_type": "code",
   "execution_count": 12,
   "metadata": {},
   "outputs": [],
   "source": [
    "class SinglePointCrossover:\n",
    "    \n",
    "    def __init__(self, individual_factory):\n",
    "        self.individual_factory = individual_factory\n",
    "    \n",
    "    def crossover(self, parent_1, parent_2):\n",
    "        crossover_point = random.randint(0, len(parent_1.genotype))\n",
    "        genotype_1 = self.__new_genotype(crossover_point, parent_1, parent_2)\n",
    "        genotype_2 = self.__new_genotype(crossover_point, parent_2, parent_1)\n",
    "        child_1 = self.individual_factory.with_set_genotype(genotype=genotype_1)\n",
    "        child_2 = self.individual_factory.with_set_genotype(genotype=genotype_2)\n",
    "        return child_1, child_2\n",
    "    \n",
    "    def __new_genotype(self, crossover_point, parent_1, parent_2):\n",
    "        return parent_1.genotype[:crossover_point] + parent_2.genotype[crossover_point:]"
   ]
  },
  {
   "cell_type": "code",
   "execution_count": 13,
   "metadata": {},
   "outputs": [
    {
     "name": "stdout",
     "output_type": "stream",
     "text": [
      "Pai 1: 1110111101\n",
      "Pai 2: 0000111111\n",
      "Filho 1: 1110111111\n",
      "Filho 2: 0000111101\n"
     ]
    }
   ],
   "source": [
    "# Teste\n",
    "\n",
    "# Cria uma instância do IndividualFactory\n",
    "individual_factory = IndividualFactory(genotype_length=10, fitness_evaluator=FitnessEvaluator(GenotypeDecoder()))\n",
    "\n",
    "# Cria uma instância do SinglePointCrossover\n",
    "crossover = SinglePointCrossover(individual_factory=individual_factory)\n",
    "\n",
    "# Cria dois indivíduos pais\n",
    "parent_1 = individual_factory.with_random_genotype()\n",
    "parent_2 = individual_factory.with_random_genotype()\n",
    "\n",
    "# Realiza o crossover entre os pais\n",
    "child_1, child_2 = crossover.crossover(parent_1=parent_1, parent_2=parent_2)\n",
    "\n",
    "# Imprime os genótipos dos pais e dos filhos\n",
    "print(\"Pai 1:\", parent_1.genotype)\n",
    "print(\"Pai 2:\", parent_2.genotype)\n",
    "print(\"Filho 1:\", child_1.genotype)\n",
    "print(\"Filho 2:\", child_2.genotype)"
   ]
  },
  {
   "cell_type": "markdown",
   "metadata": {},
   "source": [
    "#### Mutação"
   ]
  },
  {
   "cell_type": "code",
   "execution_count": 14,
   "metadata": {},
   "outputs": [],
   "source": [
    "class Mutator:\n",
    "    \n",
    "    def __init__(self, individual_factory: IndividualFactory):\n",
    "        self.individual_factory = individual_factory\n",
    "        \n",
    "    def mutate(self, individual: Individual):\n",
    "        # Cria uma cópia do genótipo do indivíduo\n",
    "        mutated_genotype = list(individual.genotype)\n",
    "        \n",
    "        # Calcula a probabilidade de mutação de cada gene\n",
    "        mutation_probability = 1 / len(individual.genotype)\n",
    "        \n",
    "        # Percorre cada gene do genótipo\n",
    "        for index, gene in enumerate(individual.genotype):\n",
    "            # Verifica se ocorre a mutação do gene com base na probabilidade\n",
    "            if random.random() < mutation_probability:\n",
    "                # Inverte o valor do gene (0 -> 1, 1 -> 0)\n",
    "                mutated_genotype[index] = '0' if gene == '1' else '1'\n",
    "        \n",
    "        # Cria um novo indivíduo com o genótipo mutado e retorna\n",
    "        return self.individual_factory.with_set_genotype(genotype=\"\".join(mutated_genotype))"
   ]
  },
  {
   "cell_type": "code",
   "execution_count": 15,
   "metadata": {},
   "outputs": [
    {
     "name": "stdout",
     "output_type": "stream",
     "text": [
      "Indivíduo inicial:\n",
      "Individual/genotype = 01010101 Fitness = 614125\n",
      "Indivíduo mutado:\n",
      "Individual/genotype = 01010001 Fitness = 531441\n"
     ]
    }
   ],
   "source": [
    "# Criação de uma instância da IndividualFactory\n",
    "individual_factory = IndividualFactory(genotype_length=8, fitness_evaluator=FitnessEvaluator(GenotypeDecoder()))\n",
    "\n",
    "# Criação de uma instância do Mutator\n",
    "mutator = Mutator(individual_factory)\n",
    "\n",
    "# Criação de um indivíduo inicial\n",
    "initial_genotype = \"01010101\"\n",
    "initial_individual = individual_factory.with_set_genotype(genotype=initial_genotype)\n",
    "\n",
    "# Aplicação da mutação no indivíduo\n",
    "mutated_individual = mutator.mutate(initial_individual)\n",
    "\n",
    "# Exibição dos resultados\n",
    "print(\"Indivíduo inicial:\")\n",
    "print(initial_individual)\n",
    "print(\"Indivíduo mutado:\")\n",
    "print(mutated_individual)\n"
   ]
  },
  {
   "cell_type": "markdown",
   "metadata": {},
   "source": [
    "#### Reprodutor\n",
    "\n",
    "O algoritmo repete as seguintes etapas a cada iteração:\n",
    "\n",
    "1. Seleciona dois indivíduos aleatórios da população.\n",
    "2. Cruza os genótipos dos indivíduos selecionados para criar dois novos indivíduos.\n",
    "3. Muta os genótipos dos novos indivíduos.\n",
    "4. Adiciona os novos indivíduos à população da próxima geração."
   ]
  },
  {
   "cell_type": "code",
   "execution_count": 16,
   "metadata": {},
   "outputs": [],
   "source": [
    "class Breeder:\n",
    "    \n",
    "    def __init__(self, single_point_crossover: SinglePointCrossover, mutator: Mutator):\n",
    "        self.single_point_crossover = single_point_crossover\n",
    "        self.mutator = mutator\n",
    "        \n",
    "    def produce_offspring(self, parents):\n",
    "        offspring = []\n",
    "        number_of_parents = len(parents)\n",
    "        for index in range(int(number_of_parents / 2)):\n",
    "            parent_1, parent_2 = self.__pick_random_parents(parents, number_of_parents)\n",
    "            \n",
    "            # Realiza o cruzamento dos pais para gerar dois filhos\n",
    "            child_1, child_2 = self.single_point_crossover.crossover(parent_1, parent_2)\n",
    "            \n",
    "            # Aplica a mutação nos filhos gerados\n",
    "            child_1_mutated = self.mutator.mutate(child_1)\n",
    "            child_2_mutated = self.mutator.mutate(child_2)\n",
    "            \n",
    "            # Adiciona os filhos mutados à lista de descendentes\n",
    "            offspring.extend((child_1_mutated, child_2_mutated))\n",
    "        \n",
    "        return offspring\n",
    "    \n",
    "    def __pick_random_parents(self, parents, number_of_parents: int):\n",
    "        # Seleciona dois pais aleatoriamente da lista de pais\n",
    "        parent_1 = parents[random.randint(0, number_of_parents - 1)]\n",
    "        parent_2 = parents[random.randint(0, number_of_parents - 1)]\n",
    "        return parent_1, parent_2"
   ]
  },
  {
   "cell_type": "code",
   "execution_count": 17,
   "metadata": {},
   "outputs": [
    {
     "name": "stdout",
     "output_type": "stream",
     "text": [
      "Individual/genotype = 1100010110 Fitness = 493039000\n",
      "Individual/genotype = 0110101000 Fitness = 76225024\n",
      "Individual/genotype = 1011001011 Fitness = 365525875\n",
      "Individual/genotype = 1001110110 Fitness = 250047000\n",
      "Individual/genotype = 1000010011 Fitness = 149721291\n",
      "Individual/genotype = 0100111011 Fitness = 31255875\n",
      "Individual/genotype = 1001010100 Fitness = 211708736\n",
      "Individual/genotype = 1010010101 Fitness = 288804781\n",
      "Individual/genotype = 0111101011 Fitness = 118370771\n",
      "Individual/genotype = 0000010111 Fitness = 12167\n"
     ]
    }
   ],
   "source": [
    "# Teste\n",
    "\n",
    "# Criação de uma instância da classe IndividualFactory\n",
    "individual_factory = IndividualFactory(genotype_length=10, fitness_evaluator=FitnessEvaluator(GenotypeDecoder()))\n",
    "\n",
    "# Criação de uma instância da classe GenotypeDecoder\n",
    "genotype_decoder = GenotypeDecoder()\n",
    "\n",
    "# Criação de uma instância da classe FitnessEvaluator\n",
    "fitness_evaluator = FitnessEvaluator(genotype_decoder=genotype_decoder)\n",
    "\n",
    "# Criação de uma instância da classe SinglePointCrossover\n",
    "single_point_crossover = SinglePointCrossover(individual_factory=individual_factory)\n",
    "\n",
    "# Criação de uma instância da classe Mutator\n",
    "mutator = Mutator(individual_factory=individual_factory)\n",
    "\n",
    "# Criação de uma instância da classe Breeder\n",
    "breeder = Breeder(single_point_crossover=single_point_crossover, mutator=mutator)\n",
    "\n",
    "# Criação de uma população inicial de indivíduos\n",
    "population = PopulationFactory(individual_factory=individual_factory).with_random_individuals(size=10)\n",
    "\n",
    "# Produção da descendência a partir da população atual\n",
    "offspring = breeder.produce_offspring(parents=population.individuals)\n",
    "\n",
    "# Exemplo de utilização da descendência gerada\n",
    "for individual in offspring:\n",
    "    print(individual)"
   ]
  },
  {
   "cell_type": "markdown",
   "metadata": {},
   "source": [
    "#### Ambiente de evolução\n",
    "\n",
    "O algoritmo é responsável por iniciar a população e, a cada chamada ao método de atualização, ele seleciona os pais, produz descendentes e substitui a população atual por uma nova. Ele também fornece um método para obter os indivíduos mais aptos da população atual.\n",
    "\n",
    "Para usar o algoritmo, precisamos instanciar todas as partes e definir alguns parâmetros, como o número de gerações e o comprimento do genótipo. Em seguida, podemos iterar o algoritmo até encontrarmos uma solução."
   ]
  },
  {
   "cell_type": "code",
   "execution_count": 18,
   "metadata": {},
   "outputs": [],
   "source": [
    "class Environment:\n",
    "    \n",
    "    def __init__(self, \n",
    "                 population_size: int, \n",
    "                 parent_selector: ParentSelector, \n",
    "                 population_factory: PopulationFactory, \n",
    "                 breeder: Breeder):\n",
    "        self.population_factory = population_factory\n",
    "        self.population = self.population_factory.with_random_individuals(size=population_size)\n",
    "        self.parent_selector = parent_selector\n",
    "        self.breeder = breeder\n",
    "    \n",
    "    def update(self):\n",
    "        # Seleciona os pais da população atual usando o seletor de pais\n",
    "        parents = self.parent_selector.select_parents(self.population)\n",
    "        # Produz a próxima geração a partir dos pais selecionados usando o criador de descendência\n",
    "        next_generation = self.breeder.produce_offspring(parents)\n",
    "        # Atualiza a população para a próxima geração usando a fábrica de população\n",
    "        self.population = self.population_factory.with_individuals(next_generation)\n",
    "        \n",
    "    def get_the_fittest(self, n: int):\n",
    "        # Obtém os indivíduos mais aptos da população atual\n",
    "        return self.population.get_the_fittest(n)"
   ]
  },
  {
   "cell_type": "markdown",
   "metadata": {},
   "source": [
    "# Rodando a Solução"
   ]
  },
  {
   "cell_type": "code",
   "execution_count": 22,
   "metadata": {},
   "outputs": [
    {
     "name": "stdout",
     "output_type": "stream",
     "text": [
      "Vencedor!\n",
      "Parou na geração 2224. Indivíduo mais apto: \n",
      "Individual/genotype = 11111111111111111111 Fitness = 1152918206075109375\n"
     ]
    },
    {
     "data": {
      "image/png": "[encoded data removed]",
      "text/plain": [
       "<Figure size 640x480 with 1 Axes>"
      ]
     },
     "metadata": {},
     "output_type": "display_data"
    }
   ],
   "source": [
    "TOTAL_GENERATIONS = 100000000000\n",
    "POPULATION_SIZE = 100\n",
    "GENOTYPE_LENGTH = 20\n",
    "\n",
    "current_generation = 1\n",
    "\n",
    "# Inicialização dos componentes necessários\n",
    "genotype_decoder = GenotypeDecoder()  # Decodificador do genótipo\n",
    "fitness_evaluator = FitnessEvaluator(genotype_decoder)  # Avaliador de aptidão\n",
    "individual_factory = IndividualFactory(GENOTYPE_LENGTH, fitness_evaluator)  # Fábrica de indivíduos\n",
    "population_factory = PopulationFactory(individual_factory)  # Fábrica de população\n",
    "single_point_crossover = SinglePointCrossover(individual_factory)  # Operador de crossover\n",
    "mutator = Mutator(individual_factory)  # Mutador\n",
    "breeder = Breeder(single_point_crossover, mutator)  # Criador de descendência\n",
    "parent_selector = ParentSelector()  # Seletor de pais\n",
    "\n",
    "# Criação do ambiente de evolução\n",
    "environment = Environment(POPULATION_SIZE, parent_selector, population_factory, breeder)\n",
    "\n",
    "highest_fitness_list = []  # Lista para armazenar a aptidão mais alta de cada geração\n",
    "while current_generation <= TOTAL_GENERATIONS:\n",
    "    fittest = environment.get_the_fittest(1)[0]  # Obtém o indivíduo mais apto da população atual\n",
    "    highest_fitness_list.append(fittest.fitness)  # Armazena a aptidão do indivíduo mais apto\n",
    "    if \"0\" not in fittest.genotype:  # Verifica se encontrou a solução desejada\n",
    "        print(\"Vencedor!\")\n",
    "        break\n",
    "    environment.update()  # Atualiza a população para a próxima geração\n",
    "    current_generation += 1\n",
    "\n",
    "print(\"Parou na geração \" + str(current_generation - 1) + \". Indivíduo mais apto: \")\n",
    "print(fittest)\n",
    "\n",
    "import matplotlib.pyplot as plt\n",
    "\n",
    "generations = range(1, len(highest_fitness_list) + 1)\n",
    "plt.plot(generations, highest_fitness_list)\n",
    "plt.title('Indivíduo mais apto em cada geração')\n",
    "plt.xlabel('Geração')\n",
    "plt.ylabel('Aptidão (fitness)')\n",
    "plt.show()"
   ]
  }
 ],
 "metadata": {
  "kernelspec": {
   "display_name": "Python 3",
   "language": "python",
   "name": "python3"
  },
  "language_info": {
   "codemirror_mode": {
    "name": "ipython",
    "version": 3
   },
   "file_extension": ".py",
   "mimetype": "text/x-python",
   "name": "python",
   "nbconvert_exporter": "python",
   "pygments_lexer": "ipython3",
   "version": "3.11.3"
  },
  "orig_nbformat": 4
 },
 "nbformat": 4,
 "nbformat_minor": 2
}
